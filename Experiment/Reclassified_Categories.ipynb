{
  "nbformat": 4,
  "nbformat_minor": 0,
  "metadata": {
    "colab": {
      "provenance": []
    },
    "kernelspec": {
      "name": "python3",
      "display_name": "Python 3"
    },
    "language_info": {
      "name": "python"
    }
  },
  "cells": [
    {
      "cell_type": "markdown",
      "source": [
        "TRIAL"
      ],
      "metadata": {
        "id": "vH_WBLKoYUyl"
      }
    },
    {
      "cell_type": "code",
      "source": [
        "import pandas as pd\n",
        "\n",
        "# Map existing categories to reclassified ones\n",
        "category_mapping = {\n",
        "    \"Water Park\": \"Bahari\",\n",
        "    \"Tempat Menyelam\": \"Bahari\",\n",
        "    \"Pulau\": \"Bahari\",\n",
        "    \"Pantai\": \"Bahari\",\n",
        "    \"Taman Laut\": \"Bahari\",\n",
        "    \"Museum Sejarah\": \"Budaya\",\n",
        "    \"Museum Seni\": \"Budaya\",\n",
        "    \"Taman Bertema\": \"Taman Hiburan\",\n",
        "    \"Taman Edukasi\": \"Taman Hiburan\",\n",
        "    \"Taman Nasional\": \"Taman Hiburan\",\n",
        "    \"Taman Rekreasi Anak\": \"Taman Hiburan\",\n",
        "    \"Kebun Binatang\": \"Taman Hiburan\",\n",
        "    \"Hutan Lindung\": \"Cagar Alam\",\n",
        "    \"Suaka Margasatwa\": \"Cagar Alam\",\n",
        "    \"Mall\": \"Pusat Perbelanjaan\",\n",
        "    \"Pasar Tradisional\": \"Pusat Perbelanjaan\",\n",
        "    \"Pusat Perbelanjaan Mewah\": \"Pusat Perbelanjaan\",\n",
        "    \"Toko Cinderamata\": \"Pusat Perbelanjaan\",\n",
        "    \"Warisan Arsitektur\": \"Situs Sejarah\",\n",
        "    \"Teater & Pertunjukan\": \"Teater & Pertunjukan\",\n",
        "    \"Tempat Ibadah\": \"Tempat Ibadah\"\n",
        "}\n",
        "\n",
        "# Load the data\n",
        "file_path = '/content/new_tourism_with_id_links (1).csv'\n",
        "data = pd.read_csv(file_path)\n",
        "\n",
        "def reclassify_categories_multi(categories, mapping):\n",
        "    \"\"\"\n",
        "    Reclassify multiple categories into their mapped groups.\n",
        "    This function ensures categories are split, reclassified, and duplicates are avoided.\n",
        "    \"\"\"\n",
        "    reclassified = set()  # Using a set to avoid duplicates\n",
        "\n",
        "    # Iterate over all categories and apply the mapping\n",
        "    for cat in categories:\n",
        "        cat = cat.strip()  # Remove any leading/trailing spaces\n",
        "        reclassified_category = mapping.get(cat)\n",
        "        if reclassified_category:\n",
        "            reclassified.add(reclassified_category)  # Add the reclassified category\n",
        "\n",
        "    # If no categories are found, return 'Unknown'\n",
        "    return \", \".join(sorted(reclassified)) if reclassified else \"Unknown\"\n",
        "\n",
        "# Apply the reclassification to the 'Category' column\n",
        "data[\"Reclassified_Category\"] = data[\"Category\"].apply(\n",
        "    lambda x: reclassify_categories_multi(x.split(\",\"), category_mapping)\n",
        ")\n",
        "\n",
        "# Save the updated data\n",
        "output_file_path = \"/content/tourism_reclassified.csv\"\n",
        "data.to_csv(output_file_path, index=False)\n",
        "\n",
        "# Display a preview of the updated data\n",
        "print(data[[\"Place_Name\", \"Category\", \"Reclassified_Category\"]].head(10))\n"
      ],
      "metadata": {
        "colab": {
          "base_uri": "https://localhost:8080/"
        },
        "id": "XAQm2IJIT7_w",
        "outputId": "de575d1d-5192-4ce4-e7f8-569ca28b2549"
      },
      "execution_count": null,
      "outputs": [
        {
          "output_type": "stream",
          "name": "stdout",
          "text": [
            "                          Place_Name                            Category  \\\n",
            "0                   Monumen Nasional          Budaya, Warisan Arsitektur   \n",
            "1                           Kota Tua                 Budaya, Museum Seni   \n",
            "2                      Dunia Fantasi           Taman Hiburan, Water Park   \n",
            "3  Taman Mini Indonesia Indah (TMII)  Taman Hiburan, Taman Rekreasi Anak   \n",
            "4           Atlantis Water Adventure        Taman Hiburan, Taman Bertema   \n",
            "5            Taman Impian Jaya Ancol           Taman Hiburan, Water Park   \n",
            "6             Kebun Binatang Ragunan          Cagar Alam, Taman Nasional   \n",
            "7                      Ocean Ecopark        Taman Hiburan, Taman Bertema   \n",
            "8                   Pelabuhan Marina                      Bahari, Pantai   \n",
            "9                       Pulau Tidung                  Bahari, Taman Laut   \n",
            "\n",
            "  Reclassified_Category  \n",
            "0         Situs Sejarah  \n",
            "1                Budaya  \n",
            "2                Bahari  \n",
            "3         Taman Hiburan  \n",
            "4         Taman Hiburan  \n",
            "5                Bahari  \n",
            "6         Taman Hiburan  \n",
            "7         Taman Hiburan  \n",
            "8                Bahari  \n",
            "9                Bahari  \n"
          ]
        }
      ]
    },
    {
      "cell_type": "markdown",
      "source": [
        "RECLASSIFY CATEGORIES"
      ],
      "metadata": {
        "id": "plvomhsdYXOu"
      }
    },
    {
      "cell_type": "code",
      "source": [
        "import pandas as pd\n",
        "\n",
        "# Map existing categories to reclassified ones\n",
        "category_mapping = {\n",
        "    \"Water Park\": \"Bahari\",\n",
        "    \"Tempat Menyelam\": \"Bahari\",\n",
        "    \"Pulau\": \"Bahari\",\n",
        "    \"Pantai\": \"Bahari\",\n",
        "    \"Taman Laut\": \"Bahari\",\n",
        "    \"Museum Sejarah\": \"Budaya\",\n",
        "    \"Museum Seni\": \"Budaya\",\n",
        "    \"Taman Bertema\": \"Taman Hiburan\",\n",
        "    \"Taman Edukasi\": \"Taman Hiburan\",\n",
        "    \"Taman Nasional\": \"Taman Hiburan\",\n",
        "    \"Taman Rekreasi Anak\": \"Taman Hiburan\",\n",
        "    \"Kebun Binatang\": \"Taman Hiburan\",\n",
        "    \"Hutan Lindung\": \"Cagar Alam\",\n",
        "    \"Suaka Margasatwa\": \"Cagar Alam\",\n",
        "    \"Mall\": \"Pusat Perbelanjaan\",\n",
        "    \"Pasar Tradisional\": \"Pusat Perbelanjaan\",\n",
        "    \"Pusat Perbelanjaan Mewah\": \"Pusat Perbelanjaan\",\n",
        "    \"Toko Cinderamata\": \"Pusat Perbelanjaan\",\n",
        "    \"Warisan Arsitektur\": \"Situs Sejarah\",\n",
        "    \"Teater & Pertunjukan\": \"Teater & Pertunjukan\",\n",
        "    \"Tempat Ibadah\": \"Tempat Ibadah\"\n",
        "}\n",
        "\n",
        "# Load the data (Replace this with your actual file path)\n",
        "file_path = '/content/new_tourism_with_id_links (1).csv'\n",
        "data = pd.read_csv(file_path)\n",
        "\n",
        "def reclassify_categories_multi(categories, mapping):\n",
        "    \"\"\"\n",
        "    Reclassify multiple categories into their mapped groups.\n",
        "    Categories that are not recognized will be ignored.\n",
        "    \"\"\"\n",
        "    reclassified = set()  # Using a set to avoid duplicates\n",
        "\n",
        "    # Iterate over all categories and apply the mapping\n",
        "    for cat in categories:\n",
        "        cat = cat.strip()  # Remove any leading/trailing spaces\n",
        "        if cat in mapping:\n",
        "            reclassified.add(mapping[cat])  # Add the reclassified category if it exists in the mapping\n",
        "\n",
        "    # If no categories were reclassified, return an empty string (to avoid \"Unknown\" or blank)\n",
        "    return \", \".join(sorted(reclassified)) if reclassified else None  # Return None for no valid category\n",
        "\n",
        "# Apply the reclassification to the 'Category' column\n",
        "data[\"Reclassified_Category\"] = data[\"Category\"].apply(\n",
        "    lambda x: reclassify_categories_multi(x.split(\",\"), category_mapping)\n",
        ")\n",
        "\n",
        "# Remove rows where the Reclassified_Category is None or empty\n",
        "data = data[data[\"Reclassified_Category\"].notnull()]\n",
        "\n",
        "# Save the updated data\n",
        "output_file_path = \"/content/tourism_reclassified_no_unknown.csv\"\n",
        "data.to_csv(output_file_path, index=False)\n",
        "\n",
        "# Display a preview of the updated data\n",
        "print(data[[\"Place_Name\", \"Category\", \"Reclassified_Category\"]].head(10))\n"
      ],
      "metadata": {
        "colab": {
          "base_uri": "https://localhost:8080/"
        },
        "id": "CpYTEC1rYYfA",
        "outputId": "99cf8581-a0b1-42f2-89fa-91b4e2651abf"
      },
      "execution_count": null,
      "outputs": [
        {
          "output_type": "stream",
          "name": "stdout",
          "text": [
            "                          Place_Name                            Category  \\\n",
            "0                   Monumen Nasional          Budaya, Warisan Arsitektur   \n",
            "1                           Kota Tua                 Budaya, Museum Seni   \n",
            "2                      Dunia Fantasi           Taman Hiburan, Water Park   \n",
            "3  Taman Mini Indonesia Indah (TMII)  Taman Hiburan, Taman Rekreasi Anak   \n",
            "4           Atlantis Water Adventure        Taman Hiburan, Taman Bertema   \n",
            "5            Taman Impian Jaya Ancol           Taman Hiburan, Water Park   \n",
            "6             Kebun Binatang Ragunan          Cagar Alam, Taman Nasional   \n",
            "7                      Ocean Ecopark        Taman Hiburan, Taman Bertema   \n",
            "8                   Pelabuhan Marina                      Bahari, Pantai   \n",
            "9                       Pulau Tidung                  Bahari, Taman Laut   \n",
            "\n",
            "  Reclassified_Category  \n",
            "0         Situs Sejarah  \n",
            "1                Budaya  \n",
            "2                Bahari  \n",
            "3         Taman Hiburan  \n",
            "4         Taman Hiburan  \n",
            "5                Bahari  \n",
            "6         Taman Hiburan  \n",
            "7         Taman Hiburan  \n",
            "8                Bahari  \n",
            "9                Bahari  \n"
          ]
        }
      ]
    }
  ]
}